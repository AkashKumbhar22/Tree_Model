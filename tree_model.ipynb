{
 "cells": [
  {
   "cell_type": "code",
   "execution_count": 1,
   "id": "aca9bd99-513b-4c17-a904-c299d72d3a59",
   "metadata": {},
   "outputs": [],
   "source": [
    "import pandas as pd\n",
    "from sklearn.model_selection import train_test_split\n",
    "from sklearn.ensemble import RandomForestClassifier\n",
    "from sklearn.metrics import accuracy_score, classification_report\n",
    "import joblib\n",
    "import os\n"
   ]
  },
  {
   "cell_type": "code",
   "execution_count": 2,
   "id": "e9192e5e-ade2-4517-a297-16819364de41",
   "metadata": {},
   "outputs": [
    {
     "name": "stdout",
     "output_type": "stream",
     "text": [
      "C:\\Users\\akash\\Downloads\\Tree_Model\\Tree_Model\n"
     ]
    }
   ],
   "source": [
    "import os\n",
    "print(os.getcwd())"
   ]
  },
  {
   "cell_type": "code",
   "execution_count": 3,
   "id": "e9b1c257-3a78-4e73-92ac-640c507e3c54",
   "metadata": {},
   "outputs": [],
   "source": [
    "# Step 2: Load the dataset\n",
    "data_path = r\"C:\\Users\\akash\\OneDrive\\Desktop\\ML Intern\\tree_retriment_model_\\tree_data.csv\"\n",
    "df = pd.read_csv(data_path)\n"
   ]
  },
  {
   "cell_type": "code",
   "execution_count": 4,
   "id": "8b7289c7-d987-4eee-9ebd-2cba646ee316",
   "metadata": {},
   "outputs": [
    {
     "data": {
      "text/html": [
       "<div>\n",
       "<style scoped>\n",
       "    .dataframe tbody tr th:only-of-type {\n",
       "        vertical-align: middle;\n",
       "    }\n",
       "\n",
       "    .dataframe tbody tr th {\n",
       "        vertical-align: top;\n",
       "    }\n",
       "\n",
       "    .dataframe thead th {\n",
       "        text-align: right;\n",
       "    }\n",
       "</style>\n",
       "<table border=\"1\" class=\"dataframe\">\n",
       "  <thead>\n",
       "    <tr style=\"text-align: right;\">\n",
       "      <th></th>\n",
       "      <th>Plot_ID</th>\n",
       "      <th>Latitude</th>\n",
       "      <th>Longitude</th>\n",
       "      <th>DBH</th>\n",
       "      <th>Tree_Height</th>\n",
       "      <th>Crown_Width_North_South</th>\n",
       "      <th>Crown_Width_East_West</th>\n",
       "      <th>Slope</th>\n",
       "      <th>Elevation</th>\n",
       "      <th>Temperature</th>\n",
       "      <th>Humidity</th>\n",
       "      <th>Soil_TN</th>\n",
       "      <th>Soil_TP</th>\n",
       "      <th>Soil_AP</th>\n",
       "      <th>Soil_AN</th>\n",
       "      <th>Menhinick_Index</th>\n",
       "      <th>Gleason_Index</th>\n",
       "      <th>Disturbance_Level</th>\n",
       "      <th>Fire_Risk_Index</th>\n",
       "      <th>Health_Status</th>\n",
       "    </tr>\n",
       "  </thead>\n",
       "  <tbody>\n",
       "    <tr>\n",
       "      <th>0</th>\n",
       "      <td>1</td>\n",
       "      <td>24.981605</td>\n",
       "      <td>-117.040695</td>\n",
       "      <td>29.862040</td>\n",
       "      <td>20.835684</td>\n",
       "      <td>6.147963</td>\n",
       "      <td>4.542720</td>\n",
       "      <td>29.171563</td>\n",
       "      <td>212.518419</td>\n",
       "      <td>30.209377</td>\n",
       "      <td>93.086241</td>\n",
       "      <td>0.379904</td>\n",
       "      <td>0.268850</td>\n",
       "      <td>0.328882</td>\n",
       "      <td>0.487287</td>\n",
       "      <td>0.682938</td>\n",
       "      <td>2.998681</td>\n",
       "      <td>0.004402</td>\n",
       "      <td>0.812948</td>\n",
       "      <td>Healthy</td>\n",
       "    </tr>\n",
       "    <tr>\n",
       "      <th>1</th>\n",
       "      <td>2</td>\n",
       "      <td>48.028572</td>\n",
       "      <td>-92.066934</td>\n",
       "      <td>28.462986</td>\n",
       "      <td>24.307079</td>\n",
       "      <td>8.248891</td>\n",
       "      <td>5.260921</td>\n",
       "      <td>7.757386</td>\n",
       "      <td>641.640332</td>\n",
       "      <td>29.054905</td>\n",
       "      <td>62.028839</td>\n",
       "      <td>0.339583</td>\n",
       "      <td>0.073260</td>\n",
       "      <td>0.044616</td>\n",
       "      <td>0.013501</td>\n",
       "      <td>0.723696</td>\n",
       "      <td>3.986987</td>\n",
       "      <td>0.000330</td>\n",
       "      <td>0.678542</td>\n",
       "      <td>Very Healthy</td>\n",
       "    </tr>\n",
       "    <tr>\n",
       "      <th>2</th>\n",
       "      <td>3</td>\n",
       "      <td>39.279758</td>\n",
       "      <td>-68.893791</td>\n",
       "      <td>91.094185</td>\n",
       "      <td>9.013101</td>\n",
       "      <td>7.841448</td>\n",
       "      <td>8.690927</td>\n",
       "      <td>39.257755</td>\n",
       "      <td>2510.612835</td>\n",
       "      <td>8.351397</td>\n",
       "      <td>77.992822</td>\n",
       "      <td>0.184392</td>\n",
       "      <td>0.297665</td>\n",
       "      <td>0.124953</td>\n",
       "      <td>0.474088</td>\n",
       "      <td>2.129934</td>\n",
       "      <td>3.250667</td>\n",
       "      <td>0.472263</td>\n",
       "      <td>0.889075</td>\n",
       "      <td>Healthy</td>\n",
       "    </tr>\n",
       "    <tr>\n",
       "      <th>3</th>\n",
       "      <td>4</td>\n",
       "      <td>33.946339</td>\n",
       "      <td>-78.744258</td>\n",
       "      <td>28.706889</td>\n",
       "      <td>19.496475</td>\n",
       "      <td>2.385099</td>\n",
       "      <td>4.060039</td>\n",
       "      <td>27.590231</td>\n",
       "      <td>2323.628233</td>\n",
       "      <td>37.290034</td>\n",
       "      <td>54.883864</td>\n",
       "      <td>0.611194</td>\n",
       "      <td>0.160819</td>\n",
       "      <td>0.387971</td>\n",
       "      <td>0.187495</td>\n",
       "      <td>1.717352</td>\n",
       "      <td>1.333210</td>\n",
       "      <td>0.029294</td>\n",
       "      <td>0.449336</td>\n",
       "      <td>Unhealthy</td>\n",
       "    </tr>\n",
       "    <tr>\n",
       "      <th>4</th>\n",
       "      <td>5</td>\n",
       "      <td>16.240746</td>\n",
       "      <td>-73.540720</td>\n",
       "      <td>30.835224</td>\n",
       "      <td>18.008888</td>\n",
       "      <td>2.343245</td>\n",
       "      <td>8.826847</td>\n",
       "      <td>7.074175</td>\n",
       "      <td>1116.863805</td>\n",
       "      <td>24.896527</td>\n",
       "      <td>70.402766</td>\n",
       "      <td>0.481858</td>\n",
       "      <td>0.030913</td>\n",
       "      <td>0.266699</td>\n",
       "      <td>0.009995</td>\n",
       "      <td>2.476038</td>\n",
       "      <td>1.742321</td>\n",
       "      <td>0.974533</td>\n",
       "      <td>0.893890</td>\n",
       "      <td>Unhealthy</td>\n",
       "    </tr>\n",
       "  </tbody>\n",
       "</table>\n",
       "</div>"
      ],
      "text/plain": [
       "   Plot_ID   Latitude   Longitude        DBH  Tree_Height  \\\n",
       "0        1  24.981605 -117.040695  29.862040    20.835684   \n",
       "1        2  48.028572  -92.066934  28.462986    24.307079   \n",
       "2        3  39.279758  -68.893791  91.094185     9.013101   \n",
       "3        4  33.946339  -78.744258  28.706889    19.496475   \n",
       "4        5  16.240746  -73.540720  30.835224    18.008888   \n",
       "\n",
       "   Crown_Width_North_South  Crown_Width_East_West      Slope    Elevation  \\\n",
       "0                 6.147963               4.542720  29.171563   212.518419   \n",
       "1                 8.248891               5.260921   7.757386   641.640332   \n",
       "2                 7.841448               8.690927  39.257755  2510.612835   \n",
       "3                 2.385099               4.060039  27.590231  2323.628233   \n",
       "4                 2.343245               8.826847   7.074175  1116.863805   \n",
       "\n",
       "   Temperature   Humidity   Soil_TN   Soil_TP   Soil_AP   Soil_AN  \\\n",
       "0    30.209377  93.086241  0.379904  0.268850  0.328882  0.487287   \n",
       "1    29.054905  62.028839  0.339583  0.073260  0.044616  0.013501   \n",
       "2     8.351397  77.992822  0.184392  0.297665  0.124953  0.474088   \n",
       "3    37.290034  54.883864  0.611194  0.160819  0.387971  0.187495   \n",
       "4    24.896527  70.402766  0.481858  0.030913  0.266699  0.009995   \n",
       "\n",
       "   Menhinick_Index  Gleason_Index  Disturbance_Level  Fire_Risk_Index  \\\n",
       "0         0.682938       2.998681           0.004402         0.812948   \n",
       "1         0.723696       3.986987           0.000330         0.678542   \n",
       "2         2.129934       3.250667           0.472263         0.889075   \n",
       "3         1.717352       1.333210           0.029294         0.449336   \n",
       "4         2.476038       1.742321           0.974533         0.893890   \n",
       "\n",
       "  Health_Status  \n",
       "0       Healthy  \n",
       "1  Very Healthy  \n",
       "2       Healthy  \n",
       "3     Unhealthy  \n",
       "4     Unhealthy  "
      ]
     },
     "execution_count": 4,
     "metadata": {},
     "output_type": "execute_result"
    }
   ],
   "source": [
    "df.head()"
   ]
  },
  {
   "cell_type": "code",
   "execution_count": 5,
   "id": "a0c04881-673f-47b1-8d30-e4a5d3412089",
   "metadata": {},
   "outputs": [
    {
     "data": {
      "text/plain": [
       "(1000, 20)"
      ]
     },
     "execution_count": 5,
     "metadata": {},
     "output_type": "execute_result"
    }
   ],
   "source": [
    "df.shape"
   ]
  },
  {
   "cell_type": "code",
   "execution_count": 6,
   "id": "9d02202d-c497-43da-96cf-6b17182fd3fa",
   "metadata": {},
   "outputs": [
    {
     "name": "stdout",
     "output_type": "stream",
     "text": [
      "<class 'pandas.core.frame.DataFrame'>\n",
      "RangeIndex: 1000 entries, 0 to 999\n",
      "Data columns (total 20 columns):\n",
      " #   Column                   Non-Null Count  Dtype  \n",
      "---  ------                   --------------  -----  \n",
      " 0   Plot_ID                  1000 non-null   int64  \n",
      " 1   Latitude                 1000 non-null   float64\n",
      " 2   Longitude                1000 non-null   float64\n",
      " 3   DBH                      1000 non-null   float64\n",
      " 4   Tree_Height              1000 non-null   float64\n",
      " 5   Crown_Width_North_South  1000 non-null   float64\n",
      " 6   Crown_Width_East_West    1000 non-null   float64\n",
      " 7   Slope                    1000 non-null   float64\n",
      " 8   Elevation                1000 non-null   float64\n",
      " 9   Temperature              1000 non-null   float64\n",
      " 10  Humidity                 1000 non-null   float64\n",
      " 11  Soil_TN                  1000 non-null   float64\n",
      " 12  Soil_TP                  1000 non-null   float64\n",
      " 13  Soil_AP                  1000 non-null   float64\n",
      " 14  Soil_AN                  1000 non-null   float64\n",
      " 15  Menhinick_Index          1000 non-null   float64\n",
      " 16  Gleason_Index            1000 non-null   float64\n",
      " 17  Disturbance_Level        1000 non-null   float64\n",
      " 18  Fire_Risk_Index          1000 non-null   float64\n",
      " 19  Health_Status            1000 non-null   object \n",
      "dtypes: float64(18), int64(1), object(1)\n",
      "memory usage: 156.4+ KB\n"
     ]
    }
   ],
   "source": [
    "df.info()"
   ]
  },
  {
   "cell_type": "code",
   "execution_count": 7,
   "id": "fc6334cc-bb52-4b5b-a573-47b2824362d5",
   "metadata": {},
   "outputs": [
    {
     "name": "stdout",
     "output_type": "stream",
     "text": [
      "Columns in dataset: ['Plot_ID', 'Latitude', 'Longitude', 'DBH', 'Tree_Height', 'Crown_Width_North_South', 'Crown_Width_East_West', 'Slope', 'Elevation', 'Temperature', 'Humidity', 'Soil_TN', 'Soil_TP', 'Soil_AP', 'Soil_AN', 'Menhinick_Index', 'Gleason_Index', 'Disturbance_Level', 'Fire_Risk_Index', 'Health_Status']\n"
     ]
    }
   ],
   "source": [
    "print(\"Columns in dataset:\", df.columns.tolist())\n"
   ]
  },
  {
   "cell_type": "code",
   "execution_count": 8,
   "id": "ad74f35e-d62a-4bc1-9bb0-9597ab9ee2be",
   "metadata": {},
   "outputs": [],
   "source": [
    "# Step 2: Preprocess the data\n",
    "\n",
    "# (a) Convert 'Health_Status' from string to numeric\n",
    "df[\"Health_Status\"] = df[\"Health_Status\"].map({\n",
    "    \"Unhealthy\": 0,\n",
    "    \"Healthy\":1\n",
    "})\n",
    "\n",
    "# (b) Drop rows where Health_Status is missing\n",
    "df.dropna(subset=[\"Health_Status\"], inplace=True)\n"
   ]
  },
  {
   "cell_type": "code",
   "execution_count": 9,
   "id": "f5500938-290c-47cd-addc-7e2c88919f07",
   "metadata": {},
   "outputs": [],
   "source": [
    "# Step 4: Define features and target\n",
    "X = df.drop(\"Health_Status\", axis=1)\n",
    "y = df[\"Health_Status\"]\n"
   ]
  },
  {
   "cell_type": "code",
   "execution_count": 10,
   "id": "9beac9e4-6f6f-4a64-b0ae-0e0eb1f7665d",
   "metadata": {},
   "outputs": [
    {
     "name": "stdout",
     "output_type": "stream",
     "text": [
      "Shape after dropping missing target: (763, 20)\n",
      "Missing values per column:\n",
      "Plot_ID                    0\n",
      "Latitude                   0\n",
      "Longitude                  0\n",
      "DBH                        0\n",
      "Tree_Height                0\n",
      "Crown_Width_North_South    0\n",
      "Crown_Width_East_West      0\n",
      "Slope                      0\n",
      "Elevation                  0\n",
      "Temperature                0\n",
      "Humidity                   0\n",
      "Soil_TN                    0\n",
      "Soil_TP                    0\n",
      "Soil_AP                    0\n",
      "Soil_AN                    0\n",
      "Menhinick_Index            0\n",
      "Gleason_Index              0\n",
      "Disturbance_Level          0\n",
      "Fire_Risk_Index            0\n",
      "Health_Status              0\n",
      "dtype: int64\n"
     ]
    }
   ],
   "source": [
    "print(f\"Shape after dropping missing target: {df.shape}\")\n",
    "print(f\"Missing values per column:\\n{df.isnull().sum()}\")\n"
   ]
  },
  {
   "cell_type": "code",
   "execution_count": 11,
   "id": "ed58b32b-8d04-4e86-bc4b-7aad1b7a2e58",
   "metadata": {},
   "outputs": [
    {
     "name": "stdout",
     "output_type": "stream",
     "text": [
      "(1000, 20)\n",
      "   Plot_ID   Latitude   Longitude        DBH  Tree_Height  \\\n",
      "0        1  24.981605 -117.040695  29.862040    20.835684   \n",
      "1        2  48.028572  -92.066934  28.462986    24.307079   \n",
      "2        3  39.279758  -68.893791  91.094185     9.013101   \n",
      "3        4  33.946339  -78.744258  28.706889    19.496475   \n",
      "4        5  16.240746  -73.540720  30.835224    18.008888   \n",
      "\n",
      "   Crown_Width_North_South  Crown_Width_East_West      Slope    Elevation  \\\n",
      "0                 6.147963               4.542720  29.171563   212.518419   \n",
      "1                 8.248891               5.260921   7.757386   641.640332   \n",
      "2                 7.841448               8.690927  39.257755  2510.612835   \n",
      "3                 2.385099               4.060039  27.590231  2323.628233   \n",
      "4                 2.343245               8.826847   7.074175  1116.863805   \n",
      "\n",
      "   Temperature   Humidity   Soil_TN   Soil_TP   Soil_AP   Soil_AN  \\\n",
      "0    30.209377  93.086241  0.379904  0.268850  0.328882  0.487287   \n",
      "1    29.054905  62.028839  0.339583  0.073260  0.044616  0.013501   \n",
      "2     8.351397  77.992822  0.184392  0.297665  0.124953  0.474088   \n",
      "3    37.290034  54.883864  0.611194  0.160819  0.387971  0.187495   \n",
      "4    24.896527  70.402766  0.481858  0.030913  0.266699  0.009995   \n",
      "\n",
      "   Menhinick_Index  Gleason_Index  Disturbance_Level  Fire_Risk_Index  \\\n",
      "0         0.682938       2.998681           0.004402         0.812948   \n",
      "1         0.723696       3.986987           0.000330         0.678542   \n",
      "2         2.129934       3.250667           0.472263         0.889075   \n",
      "3         1.717352       1.333210           0.029294         0.449336   \n",
      "4         2.476038       1.742321           0.974533         0.893890   \n",
      "\n",
      "  Health_Status  \n",
      "0       Healthy  \n",
      "1  Very Healthy  \n",
      "2       Healthy  \n",
      "3     Unhealthy  \n",
      "4     Unhealthy  \n"
     ]
    }
   ],
   "source": [
    "import pandas as pd\n",
    "\n",
    "# Use correct path\n",
    "df = pd.read_csv(r\"C:\\Users\\akash\\OneDrive\\Desktop\\ML Intern\\tree_retriment_model_\\tree_data.csv\")\n",
    "\n",
    "print(df.shape)  # This should NOT be (0, X)\n",
    "print(df.head())\n"
   ]
  },
  {
   "cell_type": "code",
   "execution_count": 12,
   "id": "af4322d7-cfa8-4688-8ffb-e9f6b3c8b468",
   "metadata": {},
   "outputs": [
    {
     "name": "stdout",
     "output_type": "stream",
     "text": [
      "Model trained successfully!\n"
     ]
    }
   ],
   "source": [
    "# Step 6: Prepare and Train the Random Forest Classifier\n",
    "\n",
    "from sklearn.model_selection import train_test_split\n",
    "from sklearn.ensemble import RandomForestClassifier\n",
    "from sklearn.preprocessing import LabelEncoder\n",
    "\n",
    "# Drop non-feature columns\n",
    "X = df.drop(['Plot_ID', 'Health_Status'], axis=1)\n",
    "\n",
    "# Encode target labels (Healthy, Unhealthy, Very Healthy)\n",
    "le = LabelEncoder()\n",
    "y = le.fit_transform(df['Health_Status'])  # Converts to 0, 1, 2\n",
    "\n",
    "# Train-test split\n",
    "X_train, X_test, y_train, y_test = train_test_split(\n",
    "    X, y, test_size=0.2, random_state=42\n",
    ")\n",
    "\n",
    "# Initialize and train Random Forest model\n",
    "rf_model = RandomForestClassifier(n_estimators=100, random_state=42)\n",
    "rf_model.fit(X_train, y_train)\n",
    "\n",
    "# Print training complete\n",
    "print(\"Model trained successfully!\")\n"
   ]
  },
  {
   "cell_type": "code",
   "execution_count": 13,
   "id": "13c9a793-b21a-4f17-9dad-6d713709e869",
   "metadata": {},
   "outputs": [
    {
     "name": "stdout",
     "output_type": "stream",
     "text": [
      "Accuracy: 0.995\n",
      "Classification Report:\n",
      "               precision    recall  f1-score   support\n",
      "\n",
      "           0       1.00      1.00      1.00        86\n",
      "           1       1.00      0.93      0.97        15\n",
      "           2       0.99      1.00      0.99        69\n",
      "           3       1.00      1.00      1.00        30\n",
      "\n",
      "    accuracy                           0.99       200\n",
      "   macro avg       1.00      0.98      0.99       200\n",
      "weighted avg       1.00      0.99      0.99       200\n",
      "\n",
      "Model saved at: C:\\Users\\akash\\OneDrive\\Desktop\\ML Intern\\tree_retriment_model_\\tree_model.pkl\n"
     ]
    }
   ],
   "source": [
    "# Step 7: Evaluate\n",
    "from sklearn.metrics import accuracy_score, classification_report\n",
    "\n",
    "y_pred = rf_model.predict(X_test)\n",
    "print(\"Accuracy:\", accuracy_score(y_test, y_pred))\n",
    "print(\"Classification Report:\\n\", classification_report(y_test, y_pred))\n",
    "\n",
    "# Step 8: Save the model\n",
    "import joblib\n",
    "model_path = r\"C:\\Users\\akash\\OneDrive\\Desktop\\ML Intern\\tree_retriment_model_\\tree_model.pkl\"\n",
    "joblib.dump(rf_model, model_path)\n",
    "print(f\"Model saved at: {model_path}\")\n"
   ]
  },
  {
   "cell_type": "code",
   "execution_count": 14,
   "id": "53f6a2ab-d027-4775-a65e-b9e90e985c65",
   "metadata": {},
   "outputs": [
    {
     "data": {
      "text/plain": [
       "['label_encoder.pkl']"
      ]
     },
     "execution_count": 14,
     "metadata": {},
     "output_type": "execute_result"
    }
   ],
   "source": [
    "import joblib\n",
    "\n",
    "# Save model\n",
    "joblib.dump(rf_model, 'tree_health_model.pkl')\n",
    "\n",
    "# Save label encoder\n",
    "joblib.dump(le, 'label_encoder.pkl')\n"
   ]
  },
  {
   "cell_type": "code",
   "execution_count": 18,
   "id": "05ba20ba-4111-4faa-b6ab-367e66e9c991",
   "metadata": {
    "scrolled": true
   },
   "outputs": [
    {
     "name": "stdout",
     "output_type": "stream",
     "text": [
      "✅ Model trained and saved successfully!\n",
      "🎯 Accuracy: 0.99\n",
      "📊 Classification Report:\n",
      "               precision    recall  f1-score   support\n",
      "\n",
      "     Healthy       1.00      1.00      1.00        86\n",
      " Sub-healthy       1.00      0.93      0.97        15\n",
      "   Unhealthy       0.99      1.00      0.99        69\n",
      "Very Healthy       1.00      1.00      1.00        30\n",
      "\n",
      "    accuracy                           0.99       200\n",
      "   macro avg       1.00      0.98      0.99       200\n",
      "weighted avg       1.00      0.99      0.99       200\n",
      "\n"
     ]
    }
   ],
   "source": [
    "import pandas as pd\n",
    "from sklearn.model_selection import train_test_split\n",
    "from sklearn.ensemble import RandomForestClassifier\n",
    "from sklearn.metrics import accuracy_score, classification_report\n",
    "import joblib\n",
    "import os\n",
    "\n",
    "# ✅ Use raw strings to avoid Windows path issues\n",
    "DATA_PATH = r\"C:\\Users\\akash\\Downloads\\Tree_Model\\Tree_Model\\tree_data.csv\"\n",
    "MODEL_PATH = r\"C:\\Users\\akash\\Downloads\\Tree_Model\\Tree_Model\\tree_model.pkl\"\n",
    "\n",
    "def load_data(path):\n",
    "    if not os.path.exists(path):\n",
    "        raise FileNotFoundError(f\"Dataset not found at: {path}\")\n",
    "    df = pd.read_csv(path)\n",
    "    df.columns = df.columns.str.strip()  # Remove any leading/trailing spaces\n",
    "    return df\n",
    "\n",
    "def preprocess_data(df):\n",
    "    if 'Health_Status' not in df.columns:\n",
    "        raise ValueError(\"Missing target column 'Health_Status'\")\n",
    "    \n",
    "    # Drop non-feature columns like Plot_ID if present\n",
    "    if 'Plot_ID' in df.columns:\n",
    "        df = df.drop('Plot_ID', axis=1)\n",
    "\n",
    "    X = df.drop(\"Health_Status\", axis=1)\n",
    "    y = df[\"Health_Status\"]\n",
    "    return train_test_split(X, y, test_size=0.2, random_state=42)\n",
    "\n",
    "def train_model(X_train, y_train):\n",
    "    model = RandomForestClassifier(random_state=42)\n",
    "    model.fit(X_train, y_train)\n",
    "    return model\n",
    "\n",
    "def evaluate_model(model, X_test, y_test):\n",
    "    y_pred = model.predict(X_test)\n",
    "    accuracy = accuracy_score(y_test, y_pred)\n",
    "    report = classification_report(y_test, y_pred)\n",
    "    return accuracy, report\n",
    "\n",
    "def save_model(model, path):\n",
    "    joblib.dump(model, path)\n",
    "\n",
    "def main():\n",
    "    try:\n",
    "        df = load_data(DATA_PATH)\n",
    "        X_train, X_test, y_train, y_test = preprocess_data(df)\n",
    "        model = train_model(X_train, y_train)\n",
    "        accuracy, report = evaluate_model(model, X_test, y_test)\n",
    "        save_model(model, MODEL_PATH)\n",
    "\n",
    "        print(\"✅ Model trained and saved successfully!\")\n",
    "        print(f\"🎯 Accuracy: {accuracy:.2f}\")\n",
    "        print(\"📊 Classification Report:\\n\", report)\n",
    "    except Exception as e:\n",
    "        print(f\"❌ Error: {e}\")\n",
    "\n",
    "if __name__ == \"__main__\":\n",
    "    main()\n"
   ]
  },
  {
   "cell_type": "code",
   "execution_count": 17,
   "id": "9a2567a3-46ca-4550-ba83-197cb445028d",
   "metadata": {},
   "outputs": [
    {
     "name": "stdout",
     "output_type": "stream",
     "text": [
      "Index(['Plot_ID', 'Latitude', 'Longitude', 'DBH', 'Tree_Height',\n",
      "       'Crown_Width_North_South', 'Crown_Width_East_West', 'Slope',\n",
      "       'Elevation', 'Temperature', 'Humidity', 'Soil_TN', 'Soil_TP', 'Soil_AP',\n",
      "       'Soil_AN', 'Menhinick_Index', 'Gleason_Index', 'Disturbance_Level',\n",
      "       'Fire_Risk_Index', 'Health_Status'],\n",
      "      dtype='object')\n"
     ]
    }
   ],
   "source": [
    "import pandas as pd\n",
    "\n",
    "df = pd.read_csv(r\"C:\\Users\\akash\\Downloads\\Tree_Model\\Tree_Model\\tree_data.csv\")\n",
    "print(df.columns)\n"
   ]
  },
  {
   "cell_type": "code",
   "execution_count": null,
   "id": "7ca95bed-1f0f-40e1-856e-b61e58ab399b",
   "metadata": {},
   "outputs": [],
   "source": []
  }
 ],
 "metadata": {
  "kernelspec": {
   "display_name": "Python 3 (ipykernel)",
   "language": "python",
   "name": "python3"
  },
  "language_info": {
   "codemirror_mode": {
    "name": "ipython",
    "version": 3
   },
   "file_extension": ".py",
   "mimetype": "text/x-python",
   "name": "python",
   "nbconvert_exporter": "python",
   "pygments_lexer": "ipython3",
   "version": "3.10.0"
  }
 },
 "nbformat": 4,
 "nbformat_minor": 5
}
